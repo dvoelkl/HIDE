{
 "cells": [
  {
   "cell_type": "markdown",
   "metadata": {},
   "source": [
    "# HIDE Algorithm Tutorial\n",
    "\n",
    "This tutorial will guide you through the process of using the HIDE algorithm for cell type deconvolution. We will cover data preprocessing, training the model, and applying the trained parameters to an unknown bulk dataset.\n"
   ]
  },
  {
   "cell_type": "markdown",
   "metadata": {},
   "source": [
    "## Prerequisites\n",
    "\n",
    "Make sure you have all necessary libraries installed:\n",
    "\n",
    "You can install these libraries using pip: \n",
    "```python\n",
    "pip install -r requirements.txt\n",
    "```"
   ]
  },
  {
   "cell_type": "markdown",
   "metadata": {},
   "source": [
    "## Structuring the `cell_hierarchy` File\n",
    "\n",
    "The `cell_hierarchy.csv` file is essential for defining the hierarchical relationships between different cell types. This file should contain three columns:\n",
    "- `celltype_major`: The major cell type categories.\n",
    "- `celltype_minor`: The minor cell type categories that fall under each major category.\n",
    "- `celltype_sub`: The sub cell type categories that fall under each minor category.\n",
    "\n",
    "Here is an example of how the `cell_hierarchy.csv` file might look:\n",
    "\n",
    "```csv\n",
    "celltype_major,celltype_minor,celltype_sub\n",
    "T cell,CD4 T cell,Tfh\n",
    "T cell,CD4 T cell,Treg\n",
    "T cell,CD4 T cell,INF responsed T\n",
    "T cell,CD8 T cell,CXCL13 exhausted CD8 T\n",
    "```\n",
    "\n",
    "If celltypes don't have a subtype, you can just fill in the same celltype name in `celltype_sub` as used in `celltype_minor`\n",
    "\n",
    "```csv\n",
    "celltype_major,celltype_minor,celltype_sub\n",
    "B cell,IgA plasma,IgA plasma,\n",
    "B cell,IgG plasma cell,IgG plasma cell\n",
    "```\n",
    "\n",
    "In case no minor type, and thus no subtype is present, you can just set `celltype_sub` and `celltype_minor` to the same name used in `celltype_major`\n",
    "```csv\n",
    "celltype_major,celltype_minor,celltype_sub\n",
    "Proliferation T NK,Proliferation T/NK,Proliferation T/NK\n",
    "NK cell,NK cell,NK cell\n",
    "```\n",
    "\n",
    "Please ensure that the names used in the `celltype_sub` are the same as used in the single cell dataframe, as otherwise HIDE is not able to link the celltypes correctly."
   ]
  },
  {
   "cell_type": "markdown",
   "metadata": {},
   "source": [
    "## Loading Disco Example Data\n",
    "\n",
    "To load the disco example data using the `cell_hierarchy.csv` file, follow these steps:\n",
    "\n",
    "1. **Define the Path to Data Folder**: Set the path where your data files are located.\n",
    "2. **Load Metadata**: Use the `disco_read_metadata` function to read the `cell_hierarchy.csv` file and extract the cell type information.\n",
    "3. **Load Training and Test Data**: Read the training and test datasets using pandas.\n",
    "4. **Merge Cell Types**: Merge the cell types using the `merge_celltypes` function.\n",
    "5. **Filter Subtypes**: Filter the subtypes to ensure only relevant subtypes are included.\n",
    "\n",
    "Here is a step-by-step guide:"
   ]
  },
  {
   "cell_type": "code",
   "execution_count": 3,
   "metadata": {},
   "outputs": [
    {
     "name": "stderr",
     "output_type": "stream",
     "text": [
      "/Users/dvoelkl/Documents/GitHub/HIDE/.venv/lib/python3.9/site-packages/qpsolvers/solvers/__init__.py:752: UserWarning: no QP solver found on your system, you can install solvers from PyPI by ``pip install qpsolvers[open_source_solvers]``\n",
      "  warnings.warn(\n"
     ]
    }
   ],
   "source": [
    "# Import necessary libraries\n",
    "import pandas as pd\n",
    "from pipelines_dataloader import disco_read_metadata\n",
    "from pipelines_utils import merge_celltypes, filter_subtypes_by_dataframe_columns\n",
    "from hDTD import HIDE\n",
    "\n",
    "# Define the path to the data folder\n",
    "path_to_data_folder = \"./data/\"\n",
    "\n",
    "# Load metadata\n",
    "meta = disco_read_metadata(path_to_data_folder + 'cell_hierarchy.csv', \"celltype_major\", 'celltype_minor')\n",
    "main_celltypes = meta['main_celltypes']\n",
    "sub_celltypes = meta['sub_celltypes']\n",
    "meta = disco_read_metadata(path_to_data_folder + 'cell_hierarchy.csv', \"celltype_minor\", 'celltype_sub')\n",
    "subset_celltypes = meta['sub_celltypes']\n"
   ]
  },
  {
   "cell_type": "markdown",
   "metadata": {},
   "source": [
    "In the meta data loading process we aquired dictionaries linking the lower hierarchy level celltypes to the level above. <br>\n",
    "For example in `subset_celltypes` we can find all subset types of CD8 T-cells"
   ]
  },
  {
   "cell_type": "code",
   "execution_count": 4,
   "metadata": {},
   "outputs": [
    {
     "data": {
      "text/plain": [
       "['CXCL13 exhausted CD8 T', 'GZMH CD8 T', 'GZMK CD8 T']"
      ]
     },
     "execution_count": 4,
     "metadata": {},
     "output_type": "execute_result"
    }
   ],
   "source": [
    "subset_celltypes['CD8 T cell']"
   ]
  },
  {
   "cell_type": "markdown",
   "metadata": {},
   "source": [
    "The next function merges both dictionaries such that the tree structure introduced in the `cell_hierarchy.csv` file can be used by HIDE"
   ]
  },
  {
   "cell_type": "code",
   "execution_count": 5,
   "metadata": {},
   "outputs": [],
   "source": [
    "# Merge cell types\n",
    "sub_celltypes = merge_celltypes(sub_celltypes, subset_celltypes)"
   ]
  },
  {
   "cell_type": "markdown",
   "metadata": {},
   "source": [
    "Next we need to load the reference matrix `X_train`, the bulk training and validation profiles `Y_train` and `Y_val` and the corresponding cellular composition `C_train` and `C_val`."
   ]
  },
  {
   "cell_type": "code",
   "execution_count": 6,
   "metadata": {},
   "outputs": [],
   "source": [
    "# Load training data\n",
    "X_train = pd.read_csv(path_to_data_folder + \"/X_train.csv\", index_col=0)\n",
    "Y_train = pd.read_csv(path_to_data_folder + \"/train_data.csv\", index_col=0)\n",
    "C_train = pd.read_csv(path_to_data_folder + \"/train_distribution.csv\", index_col=0)\n",
    "\n",
    "# Load test data\n",
    "Y_val = pd.read_csv(path_to_data_folder + \"/test_data.csv\", index_col=0)\n",
    "C_val = pd.read_csv(path_to_data_folder + \"/test_distribution.csv\", index_col=0)"
   ]
  },
  {
   "cell_type": "markdown",
   "metadata": {},
   "source": [
    "Please ensure that `X`, `Y` and `C` have the correct structure: <br>\n",
    "`X`should have the name of the subtypes as column names and the genes of interest as index. <br>\n",
    "`Y`contains the bulk expression of each mixture as columns where the row indices are the genes <br>\n",
    "`C` contains the cell counts of each mixture as columns where the row indices are the cellular subtypes"
   ]
  },
  {
   "cell_type": "markdown",
   "metadata": {},
   "source": [
    "Next the sub_celltypes dictionary is filtered such that celltypes that do not exist in the reference matrix are removed from the hierarchy dictionary."
   ]
  },
  {
   "cell_type": "code",
   "execution_count": 7,
   "metadata": {},
   "outputs": [],
   "source": [
    "# Filter subtypes dictionary\n",
    "for type in main_celltypes:\n",
    "    sub_celltypes[type] |= filter_subtypes_by_dataframe_columns(sub_celltypes[type], X_train)"
   ]
  },
  {
   "cell_type": "markdown",
   "metadata": {},
   "source": [
    "For creation of the reference profile of the higher level celltypes it is also necessary to count the specific celltypes in the training set, which is done by the following line of code:"
   ]
  },
  {
   "cell_type": "markdown",
   "metadata": {},
   "source": [
    "<div class=\"alert alert-block alert-info\">\n",
    "<b>Tip:</b> Please be aware of the fact, that the example composition contains total cell counts. If your used training data is normalized, you need another way of counting the celltypes.\n",
    "</div>"
   ]
  },
  {
   "cell_type": "code",
   "execution_count": 8,
   "metadata": {},
   "outputs": [],
   "source": [
    "# Calculate sum of each celltype\n",
    "celltype_counts_train = {}\n",
    "for celltype in X_train.columns.unique():\n",
    "    celltype_counts_train[celltype] = C_train.sum(axis=1)[celltype]"
   ]
  },
  {
   "cell_type": "markdown",
   "metadata": {},
   "source": [
    "## Running HIDE Algorithm\n",
    "\n",
    "After preprocessing the necessary data, we are ready to execute the HIDE algorithm. The HIDE algorithm will use the preprocessed data to perform cell type deconvolution."
   ]
  },
  {
   "cell_type": "markdown",
   "metadata": {},
   "source": [
    "### Parameters for HIDE:\n",
    "\n",
    "1. **Training Composition**: The ground truth composition of the training data\n",
    "2. **Validation Composition**: The ground truth composition of the validation data\n",
    "3. **Training Bulk**: The bulk data of the training composition\n",
    "4. **Validation Bulk**: The bulk data of the validation composition\n",
    "5. **Reference profile**: The reference profile for the cellular subtypes\n",
    "6. **Hierarchy dictionary**: The dictionary linking each level of celltypes\n",
    "7. **Counts of training celltypes**: The count of each celltype in the training composition\n",
    "8. **Number of iterations**: Number of iterations that DTD should perform for each level\n",
    "9. **Save path**: Path where the results should be saved at\n",
    "10. **Save estimated compositions [optional]**: Flag whether the estimated compositions should be saved\n",
    "11. **Save Gamma and X [optional]**: Flag whether the reference profiles and models for each level should be saved\n"
   ]
  },
  {
   "cell_type": "markdown",
   "metadata": {},
   "source": [
    "\n",
    "<div class=\"alert alert-block alert-warning\">\n",
    "<b>Warning:</b> To keep this tutorial lightweight, we set the iterations to 25, for real usage this should be set around 1000. Thus the resulting correlations will be low.\n",
    "</div>"
   ]
  },
  {
   "cell_type": "code",
   "execution_count": null,
   "metadata": {},
   "outputs": [
    {
     "name": "stdout",
     "output_type": "stream",
     "text": [
      "##################################\n",
      "###       HIDE pipeline       ###\n",
      "##################################\n",
      "-> Number of used genes: 5000\n",
      "-> list of all celltypes:\n",
      "\t 0: Arterial EC\n",
      "\t 1: B cell\n",
      "\t 2: Breast basal cell\n",
      "\t 3: Breast cancer specific luminal cell\n",
      "\t 4: Breast cancer specific proliferation luminal cell\n",
      "\t 5: Capillary EC\n",
      "\t 6: CD4 T\n",
      "\t 7: cDC2\n",
      "\t 8: CFD fibroblast\n",
      "\t 9: CXCL1/2/3 fibroblast\n",
      "\t 10: CXCL13 exhausted CD8 T\n",
      "\t 11: Fibroblast\n",
      "\t 12: GZMH CD8 T\n",
      "\t 13: GZMK CD8 T\n",
      "\t 14: IgA plasma\n",
      "\t 15: IgG plasma cell\n",
      "\t 16: INF responsed T\n",
      "\t 17: Luminal progenitor\n",
      "\t 18: Lymphatic EC\n",
      "\t 19: Macrophage\n",
      "\t 20: Mast cell\n",
      "\t 21: Monocyte\n",
      "\t 22: mregDC\n",
      "\t 23: NK cell\n",
      "\t 24: pDC\n",
      "\t 25: Pericyte\n",
      "\t 26: Proliferation macrophage\n",
      "\t 27: Proliferation T/NK\n",
      "\t 28: Smooth muscle cell\n",
      "\t 29: Tfh\n",
      "\t 30: TGM2 luminal cell\n",
      "\t 31: TNBC-specific epithelial cell\n",
      "\t 32: Treg\n",
      "\t 33: Venous EC\n",
      "-> Started Pipeline at 09:47:18.215430\n",
      "### HIDE on maintypes ###\n",
      "-> list of all maintypes:\n",
      "\t 0: Endothelial cell\n",
      "\t 1: Epithelial cell\n",
      "\t 2: Fibroblast\n",
      "\t 3: B cell\n",
      "\t 4: NK cell\n",
      "\t 5: Proliferation T NK\n",
      "\t 6: T cell\n",
      "\t 7: Myeloid cell\n",
      "\t 8: Perivascular cell\n",
      "-> Creating cell maintype reference matrix\n",
      "-> Processing compositions\n",
      "-> Training HIDE\n"
     ]
    },
    {
     "data": {
      "application/vnd.jupyter.widget-view+json": {
       "model_id": "ba1844990ccf458c8d11d6f3a15b9921",
       "version_major": 2,
       "version_minor": 0
      },
      "text/plain": [
       "  0%|          | 0/25 [00:00<?, ?it/s]"
      ]
     },
     "metadata": {},
     "output_type": "display_data"
    },
    {
     "name": "stdout",
     "output_type": "stream",
     "text": [
      "-> Average train correlation: 0.5996181020909988\n",
      "-> Validating HIDE\n",
      "-> Average val correlation: 0.5992226156106237\n",
      "### HIDE on Endothelial cell subtypes ###\n",
      "-> list of Endothelial cell subtypes:\n",
      "\t 0: Arterial EC\n",
      "\t 1: Capillary EC\n",
      "\t 2: Lymphatic EC\n",
      "\t 3: Venous EC\n",
      "-> Clearing training bulks\n",
      "-> Training HIDE\n"
     ]
    },
    {
     "data": {
      "application/vnd.jupyter.widget-view+json": {
       "model_id": "e8e301c98fb94f7db732fded0a462c79",
       "version_major": 2,
       "version_minor": 0
      },
      "text/plain": [
       "  0%|          | 0/25 [00:00<?, ?it/s]"
      ]
     },
     "metadata": {},
     "output_type": "display_data"
    },
    {
     "name": "stdout",
     "output_type": "stream",
     "text": [
      "-> clearing bulks\n",
      "-> Average train correlation: 0.24174197110818618\n",
      "-> Validating HIDE\n",
      "-> clearing bulks\n",
      "-> Average val correlation: 0.18778376952923664\n",
      "\n",
      "-> No subset types of Arterial EC\n",
      "\n",
      "-> No subset types of Capillary EC\n",
      "\n",
      "-> No subset types of Lymphatic EC\n",
      "\n",
      "-> No subset types of Venous EC\n",
      "\n",
      "### HIDE on Epithelial cell subtypes ###\n",
      "-> list of Epithelial cell subtypes:\n",
      "\t 0: Luminal progenitor\n",
      "\t 1: TGM2 luminal cell\n",
      "\t 2: Breast cancer specific luminal cell\n",
      "\t 3: Breast cancer specific proliferation luminal cell\n",
      "\t 4: TNBC-specific epithelial cell\n",
      "\t 5: Breast basal cell\n",
      "-> Clearing training bulks\n",
      "-> Training HIDE\n"
     ]
    },
    {
     "data": {
      "application/vnd.jupyter.widget-view+json": {
       "model_id": "86dad83156f247cea5448355d7af8dbe",
       "version_major": 2,
       "version_minor": 0
      },
      "text/plain": [
       "  0%|          | 0/25 [00:00<?, ?it/s]"
      ]
     },
     "metadata": {},
     "output_type": "display_data"
    },
    {
     "name": "stdout",
     "output_type": "stream",
     "text": [
      "-> clearing bulks\n",
      "-> Average train correlation: 0.5471805215361805\n",
      "-> Validating HIDE\n",
      "-> clearing bulks\n",
      "-> Average val correlation: 0.5468740946359594\n",
      "\n",
      "-> No subset types of Luminal progenitor\n",
      "\n",
      "-> No subset types of TGM2 luminal cell\n",
      "\n",
      "-> No subset types of Breast cancer specific luminal cell\n",
      "\n",
      "-> No subset types of Breast cancer specific proliferation luminal cell\n",
      "\n",
      "-> No subset types of TNBC-specific epithelial cell\n",
      "\n",
      "-> No subset types of Breast basal cell\n",
      "\n",
      "### HIDE on Fibroblast subtypes ###\n",
      "-> list of Fibroblast subtypes:\n",
      "\t 0: other fibroblasts\n",
      "\t 1: CFD fibroblast\n",
      "\t 2: CXCL1/2/3 fibroblast\n",
      "-> Clearing training bulks\n",
      "-> Training HIDE\n"
     ]
    },
    {
     "data": {
      "application/vnd.jupyter.widget-view+json": {
       "model_id": "6f9bf5437c44418b885190537ed06ce4",
       "version_major": 2,
       "version_minor": 0
      },
      "text/plain": [
       "  0%|          | 0/25 [00:00<?, ?it/s]"
      ]
     },
     "metadata": {},
     "output_type": "display_data"
    },
    {
     "name": "stdout",
     "output_type": "stream",
     "text": [
      "-> clearing bulks\n",
      "-> Average train correlation: 0.6298622521387818\n",
      "-> Validating HIDE\n",
      "-> clearing bulks\n",
      "-> Average val correlation: 0.6034543318016931\n",
      "\n",
      "-> No subset types of other fibroblasts\n",
      "\n",
      "-> No subset types of CFD fibroblast\n",
      "\n",
      "-> No subset types of CXCL1/2/3 fibroblast\n",
      "\n",
      "### HIDE on B cell subtypes ###\n",
      "-> list of B cell subtypes:\n",
      "\t 0: other B cells\n",
      "\t 1: IgA plasma\n",
      "\t 2: IgG plasma cell\n",
      "-> Clearing training bulks\n",
      "-> Training HIDE\n"
     ]
    },
    {
     "data": {
      "application/vnd.jupyter.widget-view+json": {
       "model_id": "c80b91cd742a418485ddcba509b2533f",
       "version_major": 2,
       "version_minor": 0
      },
      "text/plain": [
       "  0%|          | 0/25 [00:00<?, ?it/s]"
      ]
     },
     "metadata": {},
     "output_type": "display_data"
    },
    {
     "name": "stdout",
     "output_type": "stream",
     "text": [
      "-> clearing bulks\n",
      "-> Average train correlation: 0.5423406973652106\n",
      "-> Validating HIDE\n",
      "-> clearing bulks\n",
      "-> Average val correlation: 0.5588289245122242\n",
      "\n",
      "-> No subset types of other B cells\n",
      "\n",
      "-> No subset types of IgA plasma\n",
      "\n",
      "-> No subset types of IgG plasma cell\n",
      "\n",
      "### HIDE on NK cell subtypes ###\n",
      "-> list of NK cell subtypes:\n",
      "\t 0: NK cell\n",
      "-> Clearing training bulks\n",
      "-> Training HIDE\n"
     ]
    },
    {
     "data": {
      "application/vnd.jupyter.widget-view+json": {
       "model_id": "4fa0d2eb3a3245bdb4e3707e7f540a9d",
       "version_major": 2,
       "version_minor": 0
      },
      "text/plain": [
       "  0%|          | 0/25 [00:00<?, ?it/s]"
      ]
     },
     "metadata": {},
     "output_type": "display_data"
    },
    {
     "name": "stdout",
     "output_type": "stream",
     "text": [
      "-> clearing bulks\n",
      "-> Average train correlation: 0.39744119894134045\n",
      "-> Validating HIDE\n",
      "-> clearing bulks\n",
      "-> Average val correlation: 0.4050494985400631\n",
      "\n",
      "-> No subset types of NK cell\n",
      "\n",
      "### HIDE on Proliferation T NK subtypes ###\n",
      "-> list of Proliferation T NK subtypes:\n",
      "\t 0: Proliferation T/NK\n",
      "-> Clearing training bulks\n",
      "-> Training HIDE\n"
     ]
    },
    {
     "data": {
      "application/vnd.jupyter.widget-view+json": {
       "model_id": "547c2d635653401bb0bcb85877a78053",
       "version_major": 2,
       "version_minor": 0
      },
      "text/plain": [
       "  0%|          | 0/25 [00:00<?, ?it/s]"
      ]
     },
     "metadata": {},
     "output_type": "display_data"
    },
    {
     "name": "stdout",
     "output_type": "stream",
     "text": [
      "-> clearing bulks\n",
      "-> Average train correlation: 0.3161970429423029\n",
      "-> Validating HIDE\n",
      "-> clearing bulks\n",
      "-> Average val correlation: 0.36282165320411125\n",
      "\n",
      "-> No subset types of Proliferation T/NK\n",
      "\n",
      "### HIDE on T cell subtypes ###\n",
      "-> list of T cell subtypes:\n",
      "\t 0: CD4 T cell\n",
      "\t 1: CD8 T cell\n",
      "-> Clearing training bulks\n",
      "-> Training HIDE\n"
     ]
    },
    {
     "data": {
      "application/vnd.jupyter.widget-view+json": {
       "model_id": "557c44c2011845028da255197d50ca46",
       "version_major": 2,
       "version_minor": 0
      },
      "text/plain": [
       "  0%|          | 0/25 [00:00<?, ?it/s]"
      ]
     },
     "metadata": {},
     "output_type": "display_data"
    },
    {
     "name": "stdout",
     "output_type": "stream",
     "text": [
      "-> clearing bulks\n",
      "-> Average train correlation: 0.5739453697533887\n",
      "-> Validating HIDE\n",
      "-> clearing bulks\n",
      "-> Average val correlation: 0.5606220409642149\n",
      "\n",
      "### HIDE on CD4 T cell subtypes ###\n",
      "-> list of CD4 T cell subtypes:\n",
      "\t 0: CD4 T\n",
      "\t 1: Tfh\n",
      "\t 2: Treg\n",
      "\t 3: INF responsed T\n",
      "-> Clearing training bulks\n",
      "-> Training HIDE\n"
     ]
    },
    {
     "data": {
      "application/vnd.jupyter.widget-view+json": {
       "model_id": "7aa596cbfe25477fa2f6701e1805e6d3",
       "version_major": 2,
       "version_minor": 0
      },
      "text/plain": [
       "  0%|          | 0/25 [00:00<?, ?it/s]"
      ]
     },
     "metadata": {},
     "output_type": "display_data"
    },
    {
     "name": "stdout",
     "output_type": "stream",
     "text": [
      "-> clearing bulks\n",
      "-> Average train correlation: 0.3507005431686171\n",
      "-> Validating HIDE\n",
      "-> clearing bulks\n",
      "-> Average val correlation: 0.33776725819689296\n",
      "\n",
      "### HIDE on CD8 T cell subtypes ###\n",
      "-> list of CD8 T cell subtypes:\n",
      "\t 0: CXCL13 exhausted CD8 T\n",
      "\t 1: GZMH CD8 T\n",
      "\t 2: GZMK CD8 T\n",
      "-> Clearing training bulks\n",
      "-> Training HIDE\n"
     ]
    },
    {
     "data": {
      "application/vnd.jupyter.widget-view+json": {
       "model_id": "61429fbceed24800bea4e9ee15cd8585",
       "version_major": 2,
       "version_minor": 0
      },
      "text/plain": [
       "  0%|          | 0/25 [00:00<?, ?it/s]"
      ]
     },
     "metadata": {},
     "output_type": "display_data"
    },
    {
     "name": "stdout",
     "output_type": "stream",
     "text": [
      "-> clearing bulks\n",
      "-> Average train correlation: 0.3205941501665855\n",
      "-> Validating HIDE\n",
      "-> clearing bulks\n",
      "-> Average val correlation: 0.35362551541554943\n",
      "\n",
      "### HIDE on Myeloid cell subtypes ###\n",
      "-> list of Myeloid cell subtypes:\n",
      "\t 0: Dendritic cell\n",
      "\t 1: Granulocyte\n",
      "\t 2: Macrophages\n",
      "\t 3: Monocyte\n",
      "-> Clearing training bulks\n",
      "-> Training HIDE\n"
     ]
    },
    {
     "data": {
      "application/vnd.jupyter.widget-view+json": {
       "model_id": "3085d825500d44bcb0092f2d1570f9f8",
       "version_major": 2,
       "version_minor": 0
      },
      "text/plain": [
       "  0%|          | 0/25 [00:00<?, ?it/s]"
      ]
     },
     "metadata": {},
     "output_type": "display_data"
    },
    {
     "name": "stdout",
     "output_type": "stream",
     "text": [
      "-> clearing bulks\n",
      "-> Average train correlation: 0.3870296727354586\n",
      "-> Validating HIDE\n",
      "-> clearing bulks\n",
      "-> Average val correlation: 0.4150367359922475\n",
      "\n",
      "### HIDE on Dendritic cell subtypes ###\n",
      "-> list of Dendritic cell subtypes:\n",
      "\t 0: cDC2\n",
      "\t 1: mregDC\n",
      "\t 2: pDC\n",
      "-> Clearing training bulks\n",
      "-> Training HIDE\n"
     ]
    },
    {
     "data": {
      "application/vnd.jupyter.widget-view+json": {
       "model_id": "0f56f59505d94ab18adddb251a65aa15",
       "version_major": 2,
       "version_minor": 0
      },
      "text/plain": [
       "  0%|          | 0/25 [00:00<?, ?it/s]"
      ]
     },
     "metadata": {},
     "output_type": "display_data"
    },
    {
     "name": "stdout",
     "output_type": "stream",
     "text": [
      "-> clearing bulks\n",
      "-> Average train correlation: 0.204401162113077\n",
      "-> Validating HIDE\n",
      "-> clearing bulks\n",
      "-> Average val correlation: 0.2209968707791732\n",
      "\n",
      "-> No subset types of Granulocyte\n",
      "\n",
      "### HIDE on Macrophages subtypes ###\n",
      "-> list of Macrophages subtypes:\n",
      "\t 0: Macrophage\n",
      "\t 1: Proliferation macrophage\n",
      "-> Clearing training bulks\n",
      "-> Training HIDE\n"
     ]
    },
    {
     "data": {
      "application/vnd.jupyter.widget-view+json": {
       "model_id": "1bce8bb8e5a84f0e8553415815c8c278",
       "version_major": 2,
       "version_minor": 0
      },
      "text/plain": [
       "  0%|          | 0/25 [00:00<?, ?it/s]"
      ]
     },
     "metadata": {},
     "output_type": "display_data"
    },
    {
     "name": "stdout",
     "output_type": "stream",
     "text": [
      "-> clearing bulks\n",
      "-> Average train correlation: 0.40809566781671525\n",
      "-> Validating HIDE\n",
      "-> clearing bulks\n",
      "-> Average val correlation: 0.40077743681635003\n",
      "\n",
      "-> No subset types of Monocyte\n",
      "\n",
      "### HIDE on Perivascular cell subtypes ###\n",
      "-> list of Perivascular cell subtypes:\n",
      "\t 0: Pericyte\n",
      "\t 1: Smooth muscle cell\n",
      "-> Clearing training bulks\n",
      "-> Training HIDE\n"
     ]
    },
    {
     "data": {
      "application/vnd.jupyter.widget-view+json": {
       "model_id": "60763d55a3b940a8a94fb573a9ceefb6",
       "version_major": 2,
       "version_minor": 0
      },
      "text/plain": [
       "  0%|          | 0/25 [00:00<?, ?it/s]"
      ]
     },
     "metadata": {},
     "output_type": "display_data"
    },
    {
     "name": "stdout",
     "output_type": "stream",
     "text": [
      "-> clearing bulks\n",
      "-> Average train correlation: 0.3351833338728135\n",
      "-> Validating HIDE\n",
      "-> clearing bulks\n",
      "-> Average val correlation: 0.3254796612486195\n",
      "\n",
      "-> No subset types of Pericyte\n",
      "\n",
      "-> No subset types of Smooth muscle cell\n",
      "\n",
      "-> Ended Pipeline at 09:47:47.924438\n",
      "-> Total duration: 0:00:29.709008\n",
      "### Correlations ###\n",
      "--- HIDE Training ---\n",
      "-> Main correlation: 0.5996181020909988\n",
      "-> Sub correlation: 0.45564131547075726\n",
      "-> Subset correlation: 0.3161649537622406\n",
      "-> Total correlation: 0.4164172243455789\n",
      "\n",
      "--- HIDE Validation ---\n",
      "-> Main correlation: 0.5992226156106237\n",
      "-> Sub correlation: 0.45074811211589566\n",
      "-> Subset correlation: 0.32304092208370333\n",
      "-> Total correlation: 0.41526063065713725\n",
      "\n",
      "##################################\n"
     ]
    }
   ],
   "source": [
    "# Run HIDE\n",
    "res_hide = HIDE(C_train, \n",
    "                    C_val, \n",
    "                    Y_train, \n",
    "                    Y_val, \n",
    "                    X_train, \n",
    "                    sub_celltypes, \n",
    "                    celltype_counts_train, \n",
    "                    iterations_dtd=25,\n",
    "                    savePath='./results/', \n",
    "                    saveC=False,\n",
    "                    saveGammaAndX=False)"
   ]
  },
  {
   "cell_type": "markdown",
   "metadata": {},
   "source": [
    "In the result folder you can now see various files displaying scatter plots for each celltype."
   ]
  },
  {
   "cell_type": "markdown",
   "metadata": {},
   "source": [
    "## Applying the estimated parameters to another dataset\n",
    "\n",
    "As a last section we want to show how the estimated parameters of HIDE can be used for estimating cellular proportions in another bulk dataset."
   ]
  },
  {
   "cell_type": "markdown",
   "metadata": {},
   "source": [
    "To keep this tutorial lightweight, we reuse 25 mixtures of the validation bulk. It is necessary that the real application data has the same structure, meaning each column represents a single mixture and its rows the gene expression."
   ]
  },
  {
   "cell_type": "code",
   "execution_count": null,
   "metadata": {},
   "outputs": [],
   "source": [
    "Y_appl = Y_val.iloc[:,0:25]"
   ]
  },
  {
   "cell_type": "markdown",
   "metadata": {},
   "source": [
    "Now you need to apply the estimated DTD model, the rescaling factor and the linear regression manually on each celltype you want to deconvolve. We start this by estimating the major celltype proportions. <br>\n",
    "In the previous part we used HIDE to estimate all necessary models and parameters, which are stored in the ```res_hide``` dictionary. <br>\n",
    "To apply them on another dataset we need the gamma vector for DTD, the calculated reference profiles and the linear regression parameters. For the main celltypes those can be accessed via\n",
    "```python\n",
    "gamma_main = res_hide['major']['model_main'].gamma\n",
    "X_main = res_hide['major']['X_main']\n",
    "LinReg_main = res_hide['major']['LinReg']\n",
    "```\n",
    "\n",
    "As described in our paper, first the cellular composition is estimated by DTD and then adjusted with the Linear Regression. To prevent any negative values, results having a negative estimate are set to zero. Afterwards each mixture is normalized to one, as we want to provide the percentage of each celltype."
   ]
  },
  {
   "cell_type": "code",
   "execution_count": null,
   "metadata": {},
   "outputs": [
    {
     "data": {
      "text/html": [
       "<div>\n",
       "<style scoped>\n",
       "    .dataframe tbody tr th:only-of-type {\n",
       "        vertical-align: middle;\n",
       "    }\n",
       "\n",
       "    .dataframe tbody tr th {\n",
       "        vertical-align: top;\n",
       "    }\n",
       "\n",
       "    .dataframe thead th {\n",
       "        text-align: right;\n",
       "    }\n",
       "</style>\n",
       "<table border=\"1\" class=\"dataframe\">\n",
       "  <thead>\n",
       "    <tr style=\"text-align: right;\">\n",
       "      <th></th>\n",
       "      <th>V1</th>\n",
       "      <th>V2</th>\n",
       "      <th>V3</th>\n",
       "      <th>V4</th>\n",
       "      <th>V5</th>\n",
       "    </tr>\n",
       "  </thead>\n",
       "  <tbody>\n",
       "    <tr>\n",
       "      <th>Endothelial cell</th>\n",
       "      <td>3.775416e-08</td>\n",
       "      <td>0.008413</td>\n",
       "      <td>5.402913e-03</td>\n",
       "      <td>6.916831e-03</td>\n",
       "      <td>9.628441e-03</td>\n",
       "    </tr>\n",
       "    <tr>\n",
       "      <th>Epithelial cell</th>\n",
       "      <td>5.635308e-01</td>\n",
       "      <td>0.628984</td>\n",
       "      <td>5.424821e-01</td>\n",
       "      <td>3.964452e-01</td>\n",
       "      <td>5.454112e-01</td>\n",
       "    </tr>\n",
       "    <tr>\n",
       "      <th>Fibroblast</th>\n",
       "      <td>7.832261e-02</td>\n",
       "      <td>0.056059</td>\n",
       "      <td>5.932667e-02</td>\n",
       "      <td>7.853533e-02</td>\n",
       "      <td>9.172605e-02</td>\n",
       "    </tr>\n",
       "    <tr>\n",
       "      <th>B cell</th>\n",
       "      <td>2.735336e-02</td>\n",
       "      <td>0.056139</td>\n",
       "      <td>1.420662e-02</td>\n",
       "      <td>5.933958e-02</td>\n",
       "      <td>1.512061e-02</td>\n",
       "    </tr>\n",
       "    <tr>\n",
       "      <th>NK cell</th>\n",
       "      <td>2.093987e-08</td>\n",
       "      <td>0.010081</td>\n",
       "      <td>2.124476e-08</td>\n",
       "      <td>7.946003e-03</td>\n",
       "      <td>1.006802e-02</td>\n",
       "    </tr>\n",
       "    <tr>\n",
       "      <th>Proliferation T NK</th>\n",
       "      <td>1.665234e-03</td>\n",
       "      <td>0.002745</td>\n",
       "      <td>1.505727e-08</td>\n",
       "      <td>1.584617e-08</td>\n",
       "      <td>1.280559e-02</td>\n",
       "    </tr>\n",
       "    <tr>\n",
       "      <th>T cell</th>\n",
       "      <td>1.848520e-01</td>\n",
       "      <td>0.141163</td>\n",
       "      <td>2.372185e-01</td>\n",
       "      <td>2.380544e-01</td>\n",
       "      <td>1.617439e-01</td>\n",
       "    </tr>\n",
       "    <tr>\n",
       "      <th>Myeloid cell</th>\n",
       "      <td>1.257517e-01</td>\n",
       "      <td>0.088888</td>\n",
       "      <td>1.301862e-01</td>\n",
       "      <td>2.080691e-01</td>\n",
       "      <td>1.534961e-01</td>\n",
       "    </tr>\n",
       "    <tr>\n",
       "      <th>Perivascular cell</th>\n",
       "      <td>1.852425e-02</td>\n",
       "      <td>0.007526</td>\n",
       "      <td>1.117694e-02</td>\n",
       "      <td>4.693481e-03</td>\n",
       "      <td>2.362669e-08</td>\n",
       "    </tr>\n",
       "  </tbody>\n",
       "</table>\n",
       "</div>"
      ],
      "text/plain": [
       "                              V1        V2            V3            V4  \\\n",
       "Endothelial cell    3.775416e-08  0.008413  5.402913e-03  6.916831e-03   \n",
       "Epithelial cell     5.635308e-01  0.628984  5.424821e-01  3.964452e-01   \n",
       "Fibroblast          7.832261e-02  0.056059  5.932667e-02  7.853533e-02   \n",
       "B cell              2.735336e-02  0.056139  1.420662e-02  5.933958e-02   \n",
       "NK cell             2.093987e-08  0.010081  2.124476e-08  7.946003e-03   \n",
       "Proliferation T NK  1.665234e-03  0.002745  1.505727e-08  1.584617e-08   \n",
       "T cell              1.848520e-01  0.141163  2.372185e-01  2.380544e-01   \n",
       "Myeloid cell        1.257517e-01  0.088888  1.301862e-01  2.080691e-01   \n",
       "Perivascular cell   1.852425e-02  0.007526  1.117694e-02  4.693481e-03   \n",
       "\n",
       "                              V5  \n",
       "Endothelial cell    9.628441e-03  \n",
       "Epithelial cell     5.454112e-01  \n",
       "Fibroblast          9.172605e-02  \n",
       "B cell              1.512061e-02  \n",
       "NK cell             1.006802e-02  \n",
       "Proliferation T NK  1.280559e-02  \n",
       "T cell              1.617439e-01  \n",
       "Myeloid cell        1.534961e-01  \n",
       "Perivascular cell   2.362669e-08  "
      ]
     },
     "metadata": {},
     "output_type": "display_data"
    }
   ],
   "source": [
    "from utils import calculate_estimated_composition\n",
    "from pipelines_utils import adjustToLinReg\n",
    "\n",
    "gamma_main = res_hide['major']['model_main'].gamma\n",
    "X_main = res_hide['major']['X_main']\n",
    "LinReg_main = res_hide['major']['LinReg']\n",
    "\n",
    "\n",
    "\n",
    "C_main = calculate_estimated_composition(X_main, Y_appl, gamma_main)\n",
    "C_main = adjustToLinReg(C_main, LinReg_main)\n",
    "\n",
    "# Ensure that prediction is not negative\n",
    "C_main = C_main.clip(lower=0)\n",
    "C_main = C_main / C_main.sum(axis=0)\n",
    "\n",
    "display(C_main.iloc[:,0:5])"
   ]
  },
  {
   "cell_type": "markdown",
   "metadata": {},
   "source": [
    "Next we examplarly show how to estimate the T cell subtypes. Therefor we again need the estimated parameters which can be found in the results dictionary: <br>\n",
    "```python\n",
    "gamma_T = res_hide['minor']['T cell']['model'].gamma\n",
    "X_T = res_hide['minor']['T cell']['X_sub']\n",
    "LinReg_T = res_hide['minor']['T cell']['LinReg']\n",
    "```\n",
    "\n",
    "For minor and subtype estimation HIDE provides a function ```subtypes_estimate_composition``` which takes the reference profile of the parent type (here X_main) and the current type (here X_T), the bulk transcriptomic profile, the name of the parent type that should be splitted (here 'T cell'), the estimated parent composition (here C_main) and the estimated gamma vector and linear regression. <br>\n",
    "\n",
    "The function returns a dictionary containing the estimated composition ('C_est) and the reduced bulk profile ('Y_reduced')."
   ]
  },
  {
   "cell_type": "code",
   "execution_count": null,
   "metadata": {},
   "outputs": [
    {
     "name": "stdout",
     "output_type": "stream",
     "text": [
      "-> clearing bulks\n"
     ]
    },
    {
     "data": {
      "text/html": [
       "<div>\n",
       "<style scoped>\n",
       "    .dataframe tbody tr th:only-of-type {\n",
       "        vertical-align: middle;\n",
       "    }\n",
       "\n",
       "    .dataframe tbody tr th {\n",
       "        vertical-align: top;\n",
       "    }\n",
       "\n",
       "    .dataframe thead th {\n",
       "        text-align: right;\n",
       "    }\n",
       "</style>\n",
       "<table border=\"1\" class=\"dataframe\">\n",
       "  <thead>\n",
       "    <tr style=\"text-align: right;\">\n",
       "      <th></th>\n",
       "      <th>0</th>\n",
       "      <th>1</th>\n",
       "      <th>2</th>\n",
       "      <th>3</th>\n",
       "      <th>4</th>\n",
       "    </tr>\n",
       "  </thead>\n",
       "  <tbody>\n",
       "    <tr>\n",
       "      <th>CD4 T cell</th>\n",
       "      <td>1.848520e-01</td>\n",
       "      <td>1.411632e-01</td>\n",
       "      <td>2.372185e-01</td>\n",
       "      <td>0.214111</td>\n",
       "      <td>0.143722</td>\n",
       "    </tr>\n",
       "    <tr>\n",
       "      <th>CD8 T cell</th>\n",
       "      <td>5.419652e-08</td>\n",
       "      <td>4.412962e-08</td>\n",
       "      <td>6.643588e-08</td>\n",
       "      <td>0.023943</td>\n",
       "      <td>0.018022</td>\n",
       "    </tr>\n",
       "  </tbody>\n",
       "</table>\n",
       "</div>"
      ],
      "text/plain": [
       "                       0             1             2         3         4\n",
       "CD4 T cell  1.848520e-01  1.411632e-01  2.372185e-01  0.214111  0.143722\n",
       "CD8 T cell  5.419652e-08  4.412962e-08  6.643588e-08  0.023943  0.018022"
      ]
     },
     "metadata": {},
     "output_type": "display_data"
    }
   ],
   "source": [
    "from hDTD import subtypes_estimate_composition\n",
    "\n",
    "gamma_T = res_hide['minor']['T cell']['model'].gamma\n",
    "X_T = res_hide['minor']['T cell']['X_sub']\n",
    "LinReg_T = res_hide['minor']['T cell']['LinReg']\n",
    "\n",
    "\n",
    "result_Tcell = subtypes_estimate_composition(X_T, X_main, Y_appl, 'T cell', C_main, gamma_T, LinReg_T)\n",
    "\n",
    "C_T = result_Tcell['C_est']\n",
    "display(C_T.iloc[:,0:5])"
   ]
  },
  {
   "cell_type": "markdown",
   "metadata": {},
   "source": [
    "As a last step we now want to deconvolve all CD4 T cell subtypes, which can be done almost in the same way as before. But instead of using X_main as reference profile for the parent type and Y_appl as bulk profile, we need to use the reference profile of the T-cells and the reduced bulk of the T cells, which is stored in ```result_Tcell['Y_reduced']```"
   ]
  },
  {
   "cell_type": "code",
   "execution_count": null,
   "metadata": {},
   "outputs": [
    {
     "name": "stdout",
     "output_type": "stream",
     "text": [
      "-> clearing bulks\n"
     ]
    },
    {
     "data": {
      "text/html": [
       "<div>\n",
       "<style scoped>\n",
       "    .dataframe tbody tr th:only-of-type {\n",
       "        vertical-align: middle;\n",
       "    }\n",
       "\n",
       "    .dataframe tbody tr th {\n",
       "        vertical-align: top;\n",
       "    }\n",
       "\n",
       "    .dataframe thead th {\n",
       "        text-align: right;\n",
       "    }\n",
       "</style>\n",
       "<table border=\"1\" class=\"dataframe\">\n",
       "  <thead>\n",
       "    <tr style=\"text-align: right;\">\n",
       "      <th></th>\n",
       "      <th>0</th>\n",
       "      <th>1</th>\n",
       "      <th>2</th>\n",
       "      <th>3</th>\n",
       "      <th>4</th>\n",
       "    </tr>\n",
       "  </thead>\n",
       "  <tbody>\n",
       "    <tr>\n",
       "      <th>CD4 T</th>\n",
       "      <td>1.238749e-01</td>\n",
       "      <td>8.947309e-02</td>\n",
       "      <td>1.622369e-01</td>\n",
       "      <td>1.258131e-01</td>\n",
       "      <td>8.516915e-02</td>\n",
       "    </tr>\n",
       "    <tr>\n",
       "      <th>Tfh</th>\n",
       "      <td>2.655366e-02</td>\n",
       "      <td>2.008267e-02</td>\n",
       "      <td>2.361280e-02</td>\n",
       "      <td>3.542636e-02</td>\n",
       "      <td>2.950994e-02</td>\n",
       "    </tr>\n",
       "    <tr>\n",
       "      <th>Treg</th>\n",
       "      <td>3.442341e-02</td>\n",
       "      <td>3.160745e-02</td>\n",
       "      <td>5.136874e-02</td>\n",
       "      <td>5.287168e-02</td>\n",
       "      <td>2.904296e-02</td>\n",
       "    </tr>\n",
       "    <tr>\n",
       "      <th>INF responsed T</th>\n",
       "      <td>5.868077e-10</td>\n",
       "      <td>4.461760e-10</td>\n",
       "      <td>7.718906e-10</td>\n",
       "      <td>7.122566e-10</td>\n",
       "      <td>4.694051e-10</td>\n",
       "    </tr>\n",
       "  </tbody>\n",
       "</table>\n",
       "</div>"
      ],
      "text/plain": [
       "                            0             1             2             3  \\\n",
       "CD4 T            1.238749e-01  8.947309e-02  1.622369e-01  1.258131e-01   \n",
       "Tfh              2.655366e-02  2.008267e-02  2.361280e-02  3.542636e-02   \n",
       "Treg             3.442341e-02  3.160745e-02  5.136874e-02  5.287168e-02   \n",
       "INF responsed T  5.868077e-10  4.461760e-10  7.718906e-10  7.122566e-10   \n",
       "\n",
       "                            4  \n",
       "CD4 T            8.516915e-02  \n",
       "Tfh              2.950994e-02  \n",
       "Treg             2.904296e-02  \n",
       "INF responsed T  4.694051e-10  "
      ]
     },
     "metadata": {},
     "output_type": "display_data"
    }
   ],
   "source": [
    "gamma_CD4 = res_hide['sub']['CD4 T cell']['model'].gamma\n",
    "X_CD4 = res_hide['sub']['CD4 T cell']['X_sub']\n",
    "LinReg_CD4 = res_hide['sub']['CD4 T cell']['LinReg']\n",
    "\n",
    "\n",
    "result_CD4 = subtypes_estimate_composition(X_CD4, X_T, result_Tcell['Y_reduced'], 'CD4 T cell', C_T, gamma_CD4, LinReg_CD4)\n",
    "\n",
    "C_CD4 = result_CD4['C_est']\n",
    "display(C_CD4.iloc[:,0:5])"
   ]
  }
 ],
 "metadata": {
  "kernelspec": {
   "display_name": ".venv",
   "language": "python",
   "name": "python3"
  },
  "language_info": {
   "codemirror_mode": {
    "name": "ipython",
    "version": 3
   },
   "file_extension": ".py",
   "mimetype": "text/x-python",
   "name": "python",
   "nbconvert_exporter": "python",
   "pygments_lexer": "ipython3",
   "version": "3.9.6"
  }
 },
 "nbformat": 4,
 "nbformat_minor": 2
}
